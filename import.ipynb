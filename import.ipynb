{
 "cells": [
  {
   "cell_type": "markdown",
   "metadata": {},
   "source": [
    "### Script de extração dos dados relevantes do txt da conversa do whatsapp\n",
    "\n",
    "A celula abaixo é responsavel por importar as bibliotecas e definir algumas variaveis e listas que serão reutilizadas posteriormente, como o padrão regex que irá procurar pelas imagens na conversa, as linhas do arquivo contendo as conversas do whatsapp e arquivo imagens.txt"
   ]
  },
  {
   "cell_type": "code",
   "execution_count": 44,
   "metadata": {},
   "outputs": [],
   "source": [
    "import re\n",
    "\n",
    "with open('txt/Conversa do WhatsApp com Pai.txt', 'r') as conversas, open('txt/imagens.txt', 'r') as imgs:\n",
    "    cvs_lines = conversas.readlines()\n",
    "    imgs_lines = imgs.readlines()\n",
    "\n",
    "padrao_imagem = r'IMG-\\d{8}-WA\\d{4}\\.jpg'"
   ]
  },
  {
   "cell_type": "markdown",
   "metadata": {},
   "source": [
    "A celula a seguir irá abrir o arquivo imagens "
   ]
  },
  {
   "cell_type": "code",
   "execution_count": 62,
   "metadata": {},
   "outputs": [],
   "source": [
    "with open('txt/discos.txt', 'w') as discos_txt, open('txt/imagens.txt', 'w') as imagens_txt, open('txt/imagens_duplas.txt', 'w') as imagens_duplas:\n",
    "    \n",
    "    # Buscando e escrevendo as imagens encontradas no arquivo de conversa\n",
    "    for cvs_line in cvs_lines:\n",
    "        imagens = re.findall(padrao_imagem, cvs_line)\n",
    "        for imagem in imagens:\n",
    "            imagens_txt.write(imagem + '\\n')\n",
    "    \n",
    "    # escreve os pares de capa e verso em imagens.txt\n",
    "    for i in range(0, len(imgs_lines), 2):\n",
    "        capa = imgs_lines[i].strip()\n",
    "        verso = imgs_lines[i + 1].strip()\n",
    "        imagens_duplas.write(capa +\", \"+ verso + \"\\n\")\n",
    "        print(capa +\", \"+ verso + \"\\n\")\n",
    "\n",
    "    # Salvando linhas de conversa que não contêm a data especificada\n",
    "    for cvs_line in cvs_lines:\n",
    "        if '28/10/2024' not in cvs_line:\n",
    "            discos_txt.write(cvs_line.strip() + '\\n')\n"
   ]
  },
  {
   "cell_type": "markdown",
   "metadata": {},
   "source": [
    "Abaixo temos a celula que mescla os nomes das imagens extraidas com as informações extraidas dos discos"
   ]
  },
  {
   "cell_type": "code",
   "execution_count": 54,
   "metadata": {},
   "outputs": [],
   "source": [
    "with open('txt/discos.txt', 'r') as discos_file, open('txt/imagens.txt', 'r') as imagens_file:\n",
    "    discos = discos_file.readlines()\n",
    "    imagens = imagens_file.readlines()\n",
    "\n",
    "imagens = [imagem.strip().split(',') for imagem in imagens]\n",
    "\n",
    "with open('txt/result.txt', 'w') as result:\n",
    "    for i, disco in enumerate(discos):\n",
    "\n",
    "        disco = disco.strip().split(',')\n",
    "        artista = disco[0].strip()  \n",
    "        if len(disco) < 2:\n",
    "            nome = artista  \n",
    "        else:\n",
    "            nome = disco[1].strip()  \n",
    "\n",
    "        if i < len(imagens):\n",
    "            capa = imagens[i][0]\n",
    "            verso = imagens[i][1]\n",
    "            result.write(f\"artista: {artista}, nome: {nome}, capa: {capa}, verso: {verso}\\n\")\n",
    "            print(f\"artista: {artista}, nome: {nome}, capa: {capa}, verso: {verso}\")\n"
   ]
  }
 ],
 "metadata": {
  "kernelspec": {
   "display_name": ".venv",
   "language": "python",
   "name": "python3"
  },
  "language_info": {
   "codemirror_mode": {
    "name": "ipython",
    "version": 3
   },
   "file_extension": ".py",
   "mimetype": "text/x-python",
   "name": "python",
   "nbconvert_exporter": "python",
   "pygments_lexer": "ipython3",
   "version": "3.12.7"
  }
 },
 "nbformat": 4,
 "nbformat_minor": 2
}
