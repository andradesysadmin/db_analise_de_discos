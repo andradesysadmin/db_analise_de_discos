{
 "cells": [
  {
   "cell_type": "markdown",
   "metadata": {},
   "source": [
    "### Script de extração dos dados relevantes do txt da conversa do whatsapp\n",
    "\n",
    "A celula abaixo é responsavel por importar as bibliotecas e definir algumas variaveis e listas que serão reutilizadas posteriormente, como o padrão regex que irá procurar pelas imagens na conversa, as linhas do arquivo contendo as conversas do whatsapp e arquivo imagens.txt"
   ]
  },
  {
   "cell_type": "code",
   "execution_count": 1,
   "metadata": {},
   "outputs": [],
   "source": [
    "import re\n",
    "\n",
    "with open('txt/Conversa do WhatsApp com Pai.txt', 'r') as conversas, open('txt/imagens.txt', 'r') as imgs:\n",
    "    cvs_lines = conversas.readlines()\n",
    "    imgs_lines = imgs.readlines()\n",
    "\n",
    "padrao_imagem = r'IMG-\\d{8}-WA\\d{4}\\.jpg'"
   ]
  },
  {
   "cell_type": "markdown",
   "metadata": {},
   "source": [
    "A celula a seguir irá abrir o arquivo imagens "
   ]
  },
  {
   "cell_type": "code",
   "execution_count": 2,
   "metadata": {},
   "outputs": [],
   "source": [
    "with open('txt/discos.txt', 'w') as discos_txt, open('txt/imagens.txt', 'w') as imagens_txt:\n",
    "    \n",
    "    # Buscando e escrevendo as imagens encontradas no arquivo de conversa\n",
    "    for cvs_line in cvs_lines:\n",
    "        imagens = re.findall(padrao_imagem, cvs_line)\n",
    "    \n",
    "    # escreve os pares de capa e verso em imagens.txt\n",
    "    for i in range(0, len(imgs_lines) - 1, 2):\n",
    "        capa = imgs_lines[i].strip()\n",
    "        verso = imgs_lines[i + 1].strip()\n",
    "        imagens_txt.write(f\"{capa}, {verso}\\n\")\n",
    "\n",
    "    # Salvando linhas de conversa que não contêm a data especificada\n",
    "    for cvs_line in cvs_lines:\n",
    "        if '28/10/2024' not in cvs_line:\n",
    "            discos_txt.write(cvs_line.strip() + '\\n')\n"
   ]
  },
  {
   "cell_type": "markdown",
   "metadata": {},
   "source": [
    "Abaixo temos a celula que mescla os nomes das imagens extraidas com as informações extraidas dos discos"
   ]
  },
  {
   "cell_type": "code",
   "execution_count": 3,
   "metadata": {},
   "outputs": [
    {
     "name": "stdout",
     "output_type": "stream",
     "text": [
      "artista: Guns n' roses, nome: Live ?!*@ Like a Suicide, capa: IMG-20241028-WA0020.jpg, verso:  IMG-20241028-WA0021.jpg\n",
      "artista: SP Metal Vol. 2, nome: SP Metal Vol. 2, capa: IMG-20241028-WA0024.jpg, verso:  IMG-20241028-WA0025.jpg\n",
      "artista: A-ha, nome: Burning high and low, capa: IMG-20241028-WA0033.jpg, verso:  IMG-20241028-WA0035.jpg\n",
      "artista: David Bowie, nome: Labyrinth, capa: IMG-20241028-WA0041.jpg, verso:  IMG-20241028-WA0043.jpg\n",
      "artista: Nazareth, nome: Bazamanaz, capa: IMG-20241028-WA0050.jpg, verso:  IMG-20241028-WA0056.jpg\n",
      "artista: Venom, nome: Welcome to hell, capa: IMG-20241028-WA0059.jpg, verso:  IMG-20241028-WA0061.jpg\n",
      "artista: Judas Priest, nome: Unleashed in the east, capa: IMG-20241028-WA0068.jpg, verso:  IMG-20241028-WA0069.jpg\n",
      "artista: Saxon, nome: Crusader, capa: IMG-20241028-WA0076.jpg, verso:  IMG-20241028-WA0077.jpg\n",
      "artista: Van halen, nome: 1984, capa: IMG-20241028-WA0083.jpg, verso:  IMG-20241028-WA0085.jpg\n",
      "artista: Running wild, nome: Gates to purgatory, capa: IMG-20241028-WA0092.jpg, verso:  IMG-20241028-WA0093.jpg\n",
      "artista: Accept, nome: Kaizoku-ban, capa: IMG-20241028-WA0101.jpg, verso:  IMG-20241028-WA0100.jpg\n",
      "artista: The alan parsons project, nome: Vulture culture, capa: IMG-20241028-WA0107.jpg, verso:  IMG-20241028-WA0109.jpg\n",
      "artista: Bagga's guru, nome: Pirata, capa: IMG-20241028-WA0116.jpg, verso:  IMG-20241028-WA0117.jpg\n",
      "artista: Abba, nome: Golden Hits, capa: IMG-20241028-WA0124.jpg, verso:  IMG-20241028-WA0125.jpg\n",
      "artista: 12 super tops, nome: 12 super tops, capa: IMG-20241028-WA0135.jpg, verso:  IMG-20241028-WA0134.jpg\n",
      "artista: Spin doctors, nome: Turn it upside down, capa: IMG-20241028-WA0145.jpg, verso:  IMG-20241028-WA0146.jpg\n",
      "artista: Bread, nome: Anthology of bread, capa: IMG-20241028-WA0154.jpg, verso:  IMG-20241028-WA0153.jpg\n",
      "artista: The rolling stones, nome: Rolled gold, capa: IMG-20241028-WA0162.jpg, verso:  IMG-20241028-WA0161.jpg\n",
      "artista: Bob marley and The wailers, nome: 12 reggae hits, capa: IMG-20241028-WA0170.jpg, verso:  IMG-20241028-WA0171.jpg\n",
      "artista: George michael and queen with lisa stanfield, nome: Five live, capa: IMG-20241028-WA0177.jpg, verso:  IMG-20241028-WA0179.jpg\n",
      "artista: Rainbow, nome: Straight between the eyes, capa: IMG-20241028-WA0186.jpg, verso:  IMG-20241028-WA0187.jpg\n",
      "artista: The 80s 4 lp's, nome: The 80s 4 lp's, capa: IMG-20241028-WA0194.jpg, verso:  IMG-20241028-WA0195.jpg\n",
      "artista: Com rock nao se brinca, nome: Com rock nao se brinca, capa: IMG-20241028-WA0202.jpg, verso:  IMG-20241028-WA0203.jpg\n",
      "artista: Encha sua cabeca de rock, nome: Encha sua cabeca de rock, capa: IMG-20241028-WA0210.jpg, verso:  IMG-20241028-WA0211.jpg\n",
      "artista: Video clipe special heavy metal, nome: Video clipe special heavy metal, capa: IMG-20241028-WA0218.jpg, verso:  IMG-20241028-WA0219.jpg\n",
      "artista: Rock grande do sul, nome: Rock grande do sul, capa: IMG-20241028-WA0225.jpg, verso:  IMG-20241028-WA0227.jpg\n",
      "artista: Overdoze, nome: Overdoze, capa: IMG-20241028-WA0233.jpg, verso:  IMG-20241028-WA0235.jpg\n",
      "artista: Rythm e rock, nome: Rythm e rock, capa: IMG-20241028-WA0249.jpg, verso:  IMG-20241028-WA0248.jpg\n",
      "artista: Ultraje rigor, nome: Crescendo, capa: IMG-20241028-WA0259.jpg, verso:  IMG-20241028-WA0261.jpg\n",
      "artista: Four wheel drive, nome: Bachman-turner overdrive, capa: IMG-20241028-WA0269.jpg, verso:  IMG-20241028-WA0270.jpg\n",
      "artista: Inxs, nome: The greatest hits, capa: IMG-20241028-WA0277.jpg, verso:  IMG-20241028-WA0278.jpg\n",
      "artista: Creedence clearwater revival, nome: Cosmo's factory, capa: IMG-20241028-WA0285.jpg, verso:  IMG-20241028-WA0286.jpg\n"
     ]
    }
   ],
   "source": [
    "with open('txt/discos.txt', 'r') as discos_file, open('txt/imagens.txt', 'r') as imagens_file:\n",
    "    discos = discos_file.readlines()\n",
    "    imagens = imagens_file.readlines()\n",
    "\n",
    "imagens = [imagem.strip().split(',') for imagem in imagens]\n",
    "\n",
    "for i, disco in enumerate(discos):\n",
    "\n",
    "    disco = disco.strip().split(',')\n",
    "    artista = disco[0].strip()  \n",
    "    if len(disco) < 2:\n",
    "        nome = artista  \n",
    "    else:\n",
    "        nome = disco[1].strip()  \n",
    "\n",
    "    if i < len(imagens):\n",
    "        capa = imagens[i][0]\n",
    "        verso = imagens[i][1]\n",
    "        print(f\"artista: {artista}, nome: {nome}, capa: {capa}, verso: {verso}\")\n"
   ]
  }
 ],
 "metadata": {
  "kernelspec": {
   "display_name": ".venv",
   "language": "python",
   "name": "python3"
  },
  "language_info": {
   "codemirror_mode": {
    "name": "ipython",
    "version": 3
   },
   "file_extension": ".py",
   "mimetype": "text/x-python",
   "name": "python",
   "nbconvert_exporter": "python",
   "pygments_lexer": "ipython3",
   "version": "3.12.3"
  }
 },
 "nbformat": 4,
 "nbformat_minor": 2
}
