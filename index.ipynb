{
 "cells": [
  {
   "cell_type": "markdown",
   "metadata": {},
   "source": [
    "### Projeto de analise de dados com a coleção de albuns do meu pai\n",
    "\n",
    "Primeiro passo é extrair os nomes e artistas albuns da conversa que exportei"
   ]
  },
  {
   "cell_type": "code",
   "execution_count": 38,
   "metadata": {},
   "outputs": [],
   "source": [
    "with open('txt/Conversa do WhatsApp com Pai.txt', 'r') as cvs:\n",
    "    cvs_lines = cvs.readlines();\n",
    "\n",
    "with open('txt/albuns.txt', 'w') as albuns_txt:\n",
    "    for cvs_line in cvs_lines:\n",
    "        if '28/10/2024' not in cvs_line:\n",
    "            cvs_line = cvs_line.strip()\n",
    "            albuns_txt.write(cvs_line + '\\n')"
   ]
  }
 ],
 "metadata": {
  "kernelspec": {
   "display_name": "Python 3",
   "language": "python",
   "name": "python3"
  },
  "language_info": {
   "codemirror_mode": {
    "name": "ipython",
    "version": 3
   },
   "file_extension": ".py",
   "mimetype": "text/x-python",
   "name": "python",
   "nbconvert_exporter": "python",
   "pygments_lexer": "ipython3",
   "version": "3.12.7"
  }
 },
 "nbformat": 4,
 "nbformat_minor": 2
}
